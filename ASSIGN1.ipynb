{
  "nbformat": 4,
  "nbformat_minor": 0,
  "metadata": {
    "colab": {
      "provenance": [],
      "authorship_tag": "ABX9TyPE4bNBmYPuvtPN2I8Ve1tG",
      "include_colab_link": true
    },
    "kernelspec": {
      "name": "python3",
      "display_name": "Python 3"
    },
    "language_info": {
      "name": "python"
    }
  },
  "cells": [
    {
      "cell_type": "markdown",
      "metadata": {
        "id": "view-in-github",
        "colab_type": "text"
      },
      "source": [
        "<a href=\"https://colab.research.google.com/github/kiki-glow/Glory-s-Resume/blob/main/ASSIGN1.ipynb\" target=\"_parent\"><img src=\"https://colab.research.google.com/assets/colab-badge.svg\" alt=\"Open In Colab\"/></a>"
      ]
    },
    {
      "cell_type": "markdown",
      "source": [
        "Question 1:"
      ],
      "metadata": {
        "id": "Zb3-gfA0iS8H"
      }
    },
    {
      "cell_type": "code",
      "execution_count": 3,
      "metadata": {
        "colab": {
          "base_uri": "https://localhost:8080/"
        },
        "id": "C65TDoYYhKNh",
        "outputId": "10e92d89-765a-4545-87d7-f1604801f032"
      },
      "outputs": [
        {
          "output_type": "stream",
          "name": "stdout",
          "text": [
            "[[0 1]\n",
            " [4 5]]\n",
            "[]\n",
            "[[10  9]\n",
            " [ 6  5]]\n"
          ]
        }
      ],
      "source": [
        "import numpy as np\n",
        "X = np.array([[0, 1, 2, 3],\n",
        "            [4, 5, 6, 7],\n",
        "            [8, 9, 10, 11],\n",
        "            [12, 13, 14, 15]])\n",
        "#print statement(i)\n",
        "print(X[0:2,0:2])\n",
        "#print statement(ii)\n",
        "print(X[2:0,2:0])\n",
        "#print statement(iii)\n",
        "print(X[2:0:-1,2:0:-1])\n"
      ]
    },
    {
      "cell_type": "markdown",
      "source": [
        "Question 2:"
      ],
      "metadata": {
        "id": "xyhsnhVOoSMv"
      }
    },
    {
      "cell_type": "code",
      "source": [
        "import numpy as np\n",
        "Ary1 = np.array([[1, 2, 3],\n",
        "                 [4, 5, 6],\n",
        "                 [7, 8, 9]])\n",
        "print(Ary1)\n",
        "# Print each horizontal row separately\n",
        "for row in Ary1:\n",
        "    print(row)\n",
        "\n",
        "# Transpose the array and print each column separately\n",
        "Ary1_transposed = np.transpose(Ary1)\n",
        "for column in Ary1_transposed:\n",
        "    print(column)\n",
        "\n"
      ],
      "metadata": {
        "colab": {
          "base_uri": "https://localhost:8080/"
        },
        "id": "jwOPuVq7obOK",
        "outputId": "e7e1ee60-ebac-4780-e5d3-630778526cca"
      },
      "execution_count": 5,
      "outputs": [
        {
          "output_type": "stream",
          "name": "stdout",
          "text": [
            "[[1 2 3]\n",
            " [4 5 6]\n",
            " [7 8 9]]\n",
            "[1 2 3]\n",
            "[4 5 6]\n",
            "[7 8 9]\n",
            "[1 4 7]\n",
            "[2 5 8]\n",
            "[3 6 9]\n"
          ]
        }
      ]
    },
    {
      "cell_type": "markdown",
      "source": [
        "Question 3:"
      ],
      "metadata": {
        "id": "jgZr_WZk-WFx"
      }
    },
    {
      "cell_type": "code",
      "source": [
        "import numpy as np\n",
        "ar1 = np.array([[0, 1, 2],\n",
        "                [3, 4, 5],\n",
        "                [6, 7, 8]])\n",
        "ar2 = np.array([[10, 11, 12],\n",
        "                [13, 14, 15],\n",
        "                [16, 17, 18]])\n",
        "#Concatenate (i) row-wise\n",
        "row_concatenated = np.concatenate((ar1, ar2), axis=0)\n",
        "\n",
        "#Concatenate (ii) column-wise\n",
        "column_concatenate = np.concatenate((ar1, ar2), axis=1)\n",
        "#print row-wise\n",
        "print(row_concatenated)\n",
        "#print column-wise\n",
        "print(column_concatenate)\n",
        "#print the hpstack part\n",
        "np.hstack([ar1, ar2])"
      ],
      "metadata": {
        "colab": {
          "base_uri": "https://localhost:8080/"
        },
        "id": "q6Q2gzIx-Y59",
        "outputId": "b050358b-8dec-451c-a6a5-117a9a2ca296"
      },
      "execution_count": 6,
      "outputs": [
        {
          "output_type": "stream",
          "name": "stdout",
          "text": [
            "[[ 0  1  2]\n",
            " [ 3  4  5]\n",
            " [ 6  7  8]\n",
            " [10 11 12]\n",
            " [13 14 15]\n",
            " [16 17 18]]\n",
            "[[ 0  1  2 10 11 12]\n",
            " [ 3  4  5 13 14 15]\n",
            " [ 6  7  8 16 17 18]]\n"
          ]
        },
        {
          "output_type": "execute_result",
          "data": {
            "text/plain": [
              "array([[ 0,  1,  2, 10, 11, 12],\n",
              "       [ 3,  4,  5, 13, 14, 15],\n",
              "       [ 6,  7,  8, 16, 17, 18]])"
            ]
          },
          "metadata": {},
          "execution_count": 6
        }
      ]
    },
    {
      "cell_type": "markdown",
      "source": [
        "Question 4:"
      ],
      "metadata": {
        "id": "3FuE3Uy5Gc0Q"
      }
    },
    {
      "cell_type": "code",
      "source": [
        "import numpy as np\n",
        "\n",
        "L = [3, 4, 5]  # Corrected list declaration\n",
        "N = np.array([3, 4, 5])\n",
        "\n",
        "print(L)\n",
        "print(N)\n",
        "\n",
        "# print (a) L*3\n",
        "print(np.array(L) * 3)  # Convert L to a NumPy array before multiplication\n",
        "\n",
        "# (b) N*3\n",
        "print(N * 3)\n",
        "\n",
        "# (c) L+L\n",
        "print(np.array(L) + np.array(L))  # Convert L to a NumPy array before addition\n",
        "\n",
        "# (d) N+N\n",
        "print(N + N)\n"
      ],
      "metadata": {
        "colab": {
          "base_uri": "https://localhost:8080/"
        },
        "id": "kTtKx0YOGrYD",
        "outputId": "bcc537ab-3758-476d-8bff-c53ed93a14b5"
      },
      "execution_count": 8,
      "outputs": [
        {
          "output_type": "stream",
          "name": "stdout",
          "text": [
            "[3, 4, 5]\n",
            "[3 4 5]\n",
            "[ 9 12 15]\n",
            "[ 9 12 15]\n",
            "[ 6  8 10]\n",
            "[ 6  8 10]\n"
          ]
        }
      ]
    },
    {
      "cell_type": "code",
      "source": [
        "L = [3,4,5]\n",
        "N = np.array([3, 4, 5])\n",
        "print(L)\n",
        "print(N)\n",
        "# print (a) L*3\n",
        "print(L*3)\n",
        "#(b) N*3\n",
        "print(N*3)\n",
        "#(c) L+L\n",
        "print(L+L)\n",
        "#(d) N+N\n",
        "print(N+N)"
      ],
      "metadata": {
        "colab": {
          "base_uri": "https://localhost:8080/"
        },
        "id": "bcJDD7SzKR-p",
        "outputId": "2515a58f-c54e-4c6f-fcc0-621675563b21"
      },
      "execution_count": 9,
      "outputs": [
        {
          "output_type": "stream",
          "name": "stdout",
          "text": [
            "[3, 4, 5]\n",
            "[3 4 5]\n",
            "[3, 4, 5, 3, 4, 5, 3, 4, 5]\n",
            "[ 9 12 15]\n",
            "[3, 4, 5, 3, 4, 5]\n",
            "[ 6  8 10]\n"
          ]
        }
      ]
    },
    {
      "cell_type": "markdown",
      "source": [
        "Question 5:"
      ],
      "metadata": {
        "id": "-SAtVBHbKguS"
      }
    },
    {
      "cell_type": "markdown",
      "source": [
        " 5 (a)"
      ],
      "metadata": {
        "id": "xGLSRccpMXxF"
      }
    },
    {
      "cell_type": "code",
      "source": [
        "import numpy as np\n",
        "import matplotlib.pyplot as plt\n",
        "x=np.array([1,2,3])\n",
        "y=np.array([3,2,1])\n",
        "z=np.concatenate([x,y])\n",
        "print(z)\n"
      ],
      "metadata": {
        "colab": {
          "base_uri": "https://localhost:8080/"
        },
        "id": "ordnlLoaL4fi",
        "outputId": "37c9db1f-6be2-44e2-9433-9b90ba9994c4"
      },
      "execution_count": 10,
      "outputs": [
        {
          "output_type": "stream",
          "name": "stdout",
          "text": [
            "[1 2 3 3 2 1]\n"
          ]
        }
      ]
    },
    {
      "cell_type": "markdown",
      "source": [
        "5(b)"
      ],
      "metadata": {
        "id": "04sQFe7vMh73"
      }
    },
    {
      "cell_type": "code",
      "source": [
        "import numpy as np\n",
        "import matplotlib.pyplot as plt\n",
        "grid = np.array([[1, 2, 3], [4, 5, 6]])\n",
        "g2 = np.concatenate([grid, grid])\n",
        "print(g2)\n"
      ],
      "metadata": {
        "colab": {
          "base_uri": "https://localhost:8080/"
        },
        "id": "_17_-9tgMktA",
        "outputId": "549c28c1-273f-453f-f6ef-1a8864342054"
      },
      "execution_count": 11,
      "outputs": [
        {
          "output_type": "stream",
          "name": "stdout",
          "text": [
            "[[1 2 3]\n",
            " [4 5 6]\n",
            " [1 2 3]\n",
            " [4 5 6]]\n"
          ]
        }
      ]
    },
    {
      "cell_type": "markdown",
      "source": [
        "5(c)"
      ],
      "metadata": {
        "id": "AEObiMRqMrGI"
      }
    },
    {
      "cell_type": "code",
      "source": [
        "import numpy as np\n",
        "import matplotlib.pyplot as plt\n",
        "grid = np.array([[1, 2, 3], [4, 5, 6]])\n",
        "g2 = np.concatenate([grid, grid], axis=1)\n",
        "print(g2)\n"
      ],
      "metadata": {
        "colab": {
          "base_uri": "https://localhost:8080/"
        },
        "id": "yLunADJVMuEL",
        "outputId": "38b29ae1-b368-4b15-8302-6e8f3beac5ca"
      },
      "execution_count": 12,
      "outputs": [
        {
          "output_type": "stream",
          "name": "stdout",
          "text": [
            "[[1 2 3 1 2 3]\n",
            " [4 5 6 4 5 6]]\n"
          ]
        }
      ]
    },
    {
      "cell_type": "markdown",
      "source": [
        "Question 6:"
      ],
      "metadata": {
        "id": "9320kHi4M4q2"
      }
    },
    {
      "cell_type": "code",
      "source": [
        "import numpy as np\n",
        "\n",
        "# Create a 3x3 array\n",
        "array_2d = np.array([[1, 2, 3],\n",
        "                     [4, 5, 6],\n",
        "                     [7, 8, 9]])\n",
        "\n",
        "# Sum of all elements\n",
        "total_sum = np.sum(array_2d)\n",
        "\n",
        "# Sum of elements in each row\n",
        "row_sums = np.sum(array_2d, axis=1)\n",
        "\n",
        "# Sum of elements in each column\n",
        "column_sums = np.sum(array_2d, axis=0)\n",
        "\n",
        "# Print the results\n",
        "print(\"Array:\")\n",
        "print(array_2d)\n",
        "print(\"Sum of all elements:\", total_sum)\n",
        "print(\"Sum of elements in each row:\", row_sums)\n",
        "print(\"Sum of elements in each column:\", column_sums)"
      ],
      "metadata": {
        "colab": {
          "base_uri": "https://localhost:8080/"
        },
        "id": "j-vpSqFtM9HF",
        "outputId": "dfe0c4d7-43ef-4a30-c021-2dd4f64692a0"
      },
      "execution_count": 13,
      "outputs": [
        {
          "output_type": "stream",
          "name": "stdout",
          "text": [
            "Array:\n",
            "[[1 2 3]\n",
            " [4 5 6]\n",
            " [7 8 9]]\n",
            "Sum of all elements: 45\n",
            "Sum of elements in each row: [ 6 15 24]\n",
            "Sum of elements in each column: [12 15 18]\n"
          ]
        }
      ]
    },
    {
      "cell_type": "markdown",
      "source": [
        "Question 7:"
      ],
      "metadata": {
        "id": "nHo4DcbCNukN"
      }
    },
    {
      "cell_type": "code",
      "source": [
        "import numpy as np\n",
        "\n",
        "# Create a 1D array\n",
        "array_1d = np.array([1, 2, 3, 4, 5, 6, 7, 8, 9])\n",
        "\n",
        "# Convert 1D array to 2D array with 3 rows\n",
        "array_2d = np.reshape(array_1d, (3, -1))\n",
        "\n",
        "# Print the original 1D array and the converted 2D array\n",
        "print(\"Original 1D array:\")\n",
        "print(array_1d)\n",
        "print(\"Converted 2D array:\")\n",
        "print(array_2d)"
      ],
      "metadata": {
        "colab": {
          "base_uri": "https://localhost:8080/"
        },
        "id": "0EbqKuFbNx_l",
        "outputId": "3a8ae18a-44d7-41c3-a59d-bb41cf481b9a"
      },
      "execution_count": 14,
      "outputs": [
        {
          "output_type": "stream",
          "name": "stdout",
          "text": [
            "Original 1D array:\n",
            "[1 2 3 4 5 6 7 8 9]\n",
            "Converted 2D array:\n",
            "[[1 2 3]\n",
            " [4 5 6]\n",
            " [7 8 9]]\n"
          ]
        }
      ]
    },
    {
      "cell_type": "code",
      "source": [
        "import numpy as np\n",
        "\n",
        "# Create a 1D array\n",
        "array_1d = np.random.rand(1,9)\n",
        "\n",
        "# Convert 1D array to 2D array with 3 rows\n",
        "array_2d = np.reshape(array_1d, (3, -1))\n",
        "\n",
        "# Print the original 1D array and the converted 2D array\n",
        "print(\"Original 1D array:\")\n",
        "print(array_1d)\n",
        "print(\"Converted 2D array:\")\n",
        "print(array_2d)"
      ],
      "metadata": {
        "colab": {
          "base_uri": "https://localhost:8080/"
        },
        "id": "qEjaTFcFOF_e",
        "outputId": "bed9c097-7b9c-4ebf-fb1e-1bc7eaa7578c"
      },
      "execution_count": 15,
      "outputs": [
        {
          "output_type": "stream",
          "name": "stdout",
          "text": [
            "Original 1D array:\n",
            "[[0.34474117 0.09282605 0.46734537 0.29105327 0.6971671  0.70142108\n",
            "  0.12235802 0.35081222 0.20611402]]\n",
            "Converted 2D array:\n",
            "[[0.34474117 0.09282605 0.46734537]\n",
            " [0.29105327 0.6971671  0.70142108]\n",
            " [0.12235802 0.35081222 0.20611402]]\n"
          ]
        }
      ]
    },
    {
      "cell_type": "markdown",
      "source": [
        "Quetion 8:"
      ],
      "metadata": {
        "id": "BXq9Du2hOia1"
      }
    },
    {
      "cell_type": "code",
      "source": [
        "import numpy as np\n",
        "\n",
        "# Create the one-dimensional array using range()\n",
        "arr_1d = np.array(list(range(10, 31, 4)))\n",
        "\n",
        "# Reshape the array to a two-dimensional array of shape (2, 3)\n",
        "arr_2d = arr_1d.reshape(2, 3)\n",
        "#print(arr_2d)\n",
        "# Display the elements divisible by 5\n",
        "divisible_by_5 = arr_2d[arr_2d % 5 == 0]\n",
        "print(divisible_by_5)\n"
      ],
      "metadata": {
        "colab": {
          "base_uri": "https://localhost:8080/"
        },
        "id": "QrCurmnPQUfB",
        "outputId": "42abc3ec-c54a-4d45-a74a-d89c4d655977"
      },
      "execution_count": 18,
      "outputs": [
        {
          "output_type": "stream",
          "name": "stdout",
          "text": [
            "[10 30]\n"
          ]
        }
      ]
    },
    {
      "cell_type": "markdown",
      "source": [
        "Question 9:"
      ],
      "metadata": {
        "id": "3I2E7sKMRScD"
      }
    },
    {
      "cell_type": "code",
      "source": [
        "import numpy as np\n",
        "import matplotlib.pyplot as plt\n",
        "\n",
        "# Given data\n",
        "x = np.array([10, 20, 30, 40, 50])\n",
        "y = np.array([400, 800, 1100, 1700, 2100])\n",
        "\n",
        "# Perform linear regression\n",
        "coefficients = np.polyfit(x, y, 1)\n",
        "m = coefficients[0]  # Slope\n",
        "b = coefficients[1]  # Intercept\n",
        "\n",
        "# Create linear regression line\n",
        "regression_line = m * x + b\n",
        "\n",
        "# Plot the given data points and the linear regression line\n",
        "plt.scatter(x, y, color='red', label='Data Points')\n",
        "plt.plot(x, regression_line, color='blue', label='Linear Regression Line')\n",
        "\n",
        "# Add labels and title\n",
        "plt.xlabel('X')\n",
        "plt.ylabel('Y')\n",
        "plt.title('Linear Regression')\n",
        "\n",
        "# Display legend\n",
        "plt.legend()\n",
        "\n",
        "# Display the plot\n",
        "plt.show()"
      ],
      "metadata": {
        "colab": {
          "base_uri": "https://localhost:8080/",
          "height": 472
        },
        "id": "CITHBce7SIeu",
        "outputId": "ad22b8c5-e229-4e40-89a1-60670500cd4d"
      },
      "execution_count": 19,
      "outputs": [
        {
          "output_type": "display_data",
          "data": {
            "text/plain": [
              "<Figure size 640x480 with 1 Axes>"
            ],
            "image/png": "[encoded data removed]"
          },
          "metadata": {}
        }
      ]
    },
    {
      "cell_type": "markdown",
      "source": [
        "Question 10\n",
        "(1):"
      ],
      "metadata": {
        "id": "QJ46iFhDSaaq"
      }
    },
    {
      "cell_type": "code",
      "source": [
        "import matplotlib.pyplot as plt\n",
        "# Sample data\n",
        "labels = ['BMW', 'FORD', 'TESLA', 'JAGUAR', 'MERCEDES', 'AUDI']\n",
        "sizes = [10, 20, 20, 5, 30, 15]\n",
        "colors = ['orange', 'green', 'red', 'purple', 'brown', 'blue']\n",
        "\n",
        "# Create pie chart\n",
        "plt.pie(sizes, labels=labels, colors=colors, autopct='%1.1f%%')\n",
        "\n",
        "# Display the chart\n",
        "plt.show()"
      ],
      "metadata": {
        "colab": {
          "base_uri": "https://localhost:8080/",
          "height": 406
        },
        "id": "atU8TqslSkqY",
        "outputId": "244a1349-0200-497f-ff4f-28e66a664723"
      },
      "execution_count": 20,
      "outputs": [
        {
          "output_type": "display_data",
          "data": {
            "text/plain": [
              "<Figure size 640x480 with 1 Axes>"
            ],
            "image/png": "[encoded data removed]"
          },
          "metadata": {}
        }
      ]
    },
    {
      "cell_type": "markdown",
      "source": [
        "Question 10\n",
        "(2):"
      ],
      "metadata": {
        "id": "RZKAhchyS8uu"
      }
    },
    {
      "cell_type": "code",
      "source": [
        "import matplotlib.pyplot as plt\n",
        "\n",
        "# Programming language data\n",
        "languages = ['C', 'C++', 'Java', 'PHP', 'Python']\n",
        "popularity = [23, 17, 35, 12, 29]\n",
        "\n",
        "# Create a bar graph\n",
        "plt.bar(languages, popularity)\n",
        "\n",
        "# Add labels and title\n",
        "#plt.xlabel('Programming Language')\n",
        "#plt.ylabel('Popularity')\n",
        "#plt.title('Popularity of Programming Languages')\n",
        "\n",
        "# Display the graph\n",
        "plt.show()"
      ],
      "metadata": {
        "colab": {
          "base_uri": "https://localhost:8080/",
          "height": 430
        },
        "id": "wVsNLkzfTB8R",
        "outputId": "0c0a59e7-5cce-43de-b6e8-6038f42d6de4"
      },
      "execution_count": 21,
      "outputs": [
        {
          "output_type": "display_data",
          "data": {
            "text/plain": [
              "<Figure size 640x480 with 1 Axes>"
            ],
            "image/png": "[encoded data removed]"
          },
          "metadata": {}
        }
      ]
    },
    {
      "cell_type": "markdown",
      "source": [
        "Question 11:"
      ],
      "metadata": {
        "id": "ueuXDXv4Tfaj"
      }
    },
    {
      "cell_type": "code",
      "source": [
        "import numpy as np\n",
        "import matplotlib.pyplot as plt\n",
        "data = [[30, 25, 50, 20],\n",
        "[40, 23, 51, 17],\n",
        "[35, 22, 45, 19]]\n",
        "X = np.arange(4)\n",
        "fig = plt.figure()\n",
        "ax = fig.add_axes([0,0,1,1])\n",
        "ax.bar(X + 0.00, data[0], color = 'b', width = 0.25)\n",
        "ax.bar(X + 0.25, data[1], color = 'g', width = 0.25)\n",
        "ax.bar(X + 0.50, data[2], color = 'r', width = 0.25)"
      ],
      "metadata": {
        "colab": {
          "base_uri": "https://localhost:8080/",
          "height": 557
        },
        "id": "R5tDXV4ETw_7",
        "outputId": "792c14d2-01b7-431f-c0c3-9d0ef2f2dc18"
      },
      "execution_count": 22,
      "outputs": [
        {
          "output_type": "execute_result",
          "data": {
            "text/plain": [
              "<BarContainer object of 4 artists>"
            ]
          },
          "metadata": {},
          "execution_count": 22
        },
        {
          "output_type": "display_data",
          "data": {
            "text/plain": [
              "<Figure size 640x480 with 1 Axes>"
            ],
            "image/png": "[encoded data removed]"
          },
          "metadata": {}
        }
      ]
    }
  ]
}